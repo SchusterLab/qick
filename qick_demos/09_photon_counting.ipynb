{
 "cells": [
  {
   "cell_type": "code",
   "execution_count": 1,
   "metadata": {},
   "outputs": [],
   "source": [
    "%load_ext autoreload\n",
    "%autoreload 2"
   ]
  },
  {
   "cell_type": "code",
   "execution_count": 2,
   "metadata": {},
   "outputs": [],
   "source": [
    "# Import the QICK drivers and auxiliary libraries\n",
    "from qick import *\n",
    "import matplotlib.pyplot as plt\n",
    "import numpy as np\n",
    "from scipy.signal import find_peaks\n",
    "# %pylab inline"
   ]
  },
  {
   "cell_type": "code",
   "execution_count": 12,
   "metadata": {
    "slideshow": {
     "slide_type": "slide"
    }
   },
   "outputs": [],
   "source": [
    "qick_path = \"/home/xilinx/jupyter_notebooks/alternative_firmware/photon_counting_4/qick_4x2.bit\"\n",
    "\n",
    "bitfile=qick_path"
   ]
  },
  {
   "cell_type": "code",
   "execution_count": 13,
   "metadata": {},
   "outputs": [],
   "source": [
    "soc = QickSoc(bitfile=qick_path)\n",
    "soccfg = soc"
   ]
  },
  {
   "cell_type": "code",
   "execution_count": 14,
   "metadata": {},
   "outputs": [],
   "source": [
    "class AverageSignalProgram(AveragerProgram):\n",
    "    def initialize(self):\n",
    "        cfg=self.cfg   \n",
    "        \n",
    "        for ch in cfg['ro_chs']:\n",
    "            self.declare_readout(ch=ch, length=self.cfg['readout_length'], freq=0, sel='input')\n",
    "        \n",
    "        self.synci(200)\n",
    "    \n",
    "    def body(self):\n",
    "        self.trigger(adcs=self.cfg['ro_chs'], \n",
    "                     adc_trig_offset=self.cfg[\"adc_trig_offset\"])\n",
    "        self.synci(int(self.cfg['readout_length'] * 1.25))\n",
    "        self.wait_all(self.cfg['relax_delay'])\n",
    "        \n",
    "class PhotonCountingProgram(AveragerProgram):\n",
    "    def initialize(self):\n",
    "        cfg=self.cfg   \n",
    "        \n",
    "        for ch in cfg['ro_chs']:\n",
    "\n",
    "            self.declare_readout(\n",
    "                ch=ch,\n",
    "                length=self.cfg['readout_length'],\n",
    "                freq=0,\n",
    "                sel='input',\n",
    "                edge_counting=True,\n",
    "                high_threshold=3000,\n",
    "                low_threshold=500)\n",
    "        \n",
    "        self.synci(200)  # give processor some time to configure pulses\n",
    "    \n",
    "    def body(self):\n",
    "        self.trigger(adcs=self.cfg['ro_chs'], \n",
    "                     adc_trig_offset=self.cfg[\"adc_trig_offset\"])\n",
    "        self.synci(int(self.cfg['readout_length'] * 1.25))\n",
    "        self.wait_all(self.cfg['relax_delay'])\n"
   ]
  },
  {
   "cell_type": "code",
   "execution_count": 15,
   "metadata": {},
   "outputs": [
    {
     "data": {
      "text/plain": [
       "<matplotlib.collections.PathCollection at 0xffff534cf5e0>"
      ]
     },
     "execution_count": 15,
     "metadata": {},
     "output_type": "execute_result"
    },
    {
     "data": {
      "image/png": "[encoded data removed]",
      "text/plain": [
       "<Figure size 432x288 with 1 Axes>"
      ]
     },
     "metadata": {
      "needs_background": "light"
     },
     "output_type": "display_data"
    }
   ],
   "source": [
    "config={\"ro_chs\":[0], # --Fixed\n",
    "        \"reps\": 1,\n",
    "        \"relax_delay\":3000, # --us        \n",
    "        \"readout_length\":1020, # [Clock ticks]\n",
    "        \"adc_trig_offset\": 100, # [Clock ticks]\n",
    "        \"soft_avgs\":1\n",
    "       }\n",
    "\n",
    "prog =AverageSignalProgram(soccfg, config)\n",
    "iq_list = prog.acquire_decimated(soc, progress=False)\n",
    "\n",
    "data = iq_list[0][0]\n",
    "\n",
    "# Plot results.\n",
    "plt.figure(1)\n",
    "plt.plot(data)\n",
    "plt.ylabel(\"a.u.\")\n",
    "plt.xlabel(\"Clock ticks\")\n",
    "plt.title(\"Averages = \" + str(config[\"soft_avgs\"]))\n",
    "\n",
    "x0, _  = find_peaks(data,height=500)\n",
    "plt.scatter(x0, data[x0], c='red')"
   ]
  },
  {
   "cell_type": "code",
   "execution_count": 16,
   "metadata": {},
   "outputs": [
    {
     "data": {
      "image/png": "[encoded data removed]",
      "text/plain": [
       "<Figure size 432x288 with 1 Axes>"
      ]
     },
     "metadata": {
      "needs_background": "light"
     },
     "output_type": "display_data"
    },
    {
     "data": {
      "text/plain": [
       "(array([ 32.,  69., 273., 178., 151., 197.,  46.,  44.,   5.,   5.]),\n",
       " array([ 0. ,  1.4,  2.8,  4.2,  5.6,  7. ,  8.4,  9.8, 11.2, 12.6, 14. ]),\n",
       " <BarContainer object of 10 artists>)"
      ]
     },
     "execution_count": 16,
     "metadata": {},
     "output_type": "execute_result"
    },
    {
     "data": {
      "image/png": "[encoded data removed]",
      "text/plain": [
       "<Figure size 432x288 with 1 Axes>"
      ]
     },
     "metadata": {
      "needs_background": "light"
     },
     "output_type": "display_data"
    }
   ],
   "source": [
    "config={\"ro_chs\":[0], # --Fixed\n",
    "        \"reps\": 1,\n",
    "        \"relax_delay\":3000, # --us        \n",
    "        \"readout_length\":1020, # [Clock ticks]\n",
    "        \"adc_trig_offset\": 100, # [Clock ticks]\n",
    "        \"soft_avgs\":1\n",
    "       }\n",
    "\n",
    "n = []\n",
    "\n",
    "for i in range(1000):\n",
    "\n",
    "    prog =AverageSignalProgram(soccfg, config)\n",
    "    iq_list = prog.acquire_decimated(soc, progress=False)\n",
    "\n",
    "    data = iq_list[0][0]\n",
    "    x0, _  = find_peaks(data,height=500)\n",
    "    n.append(len(x0))\n",
    "counts, bins = np.histogram(n)\n",
    "plt.stairs(counts, bins)\n",
    "plt.show()\n",
    "plt.hist(bins[:-1], bins, weights=counts)"
   ]
  },
  {
   "cell_type": "code",
   "execution_count": 17,
   "metadata": {
    "scrolled": false
   },
   "outputs": [
    {
     "name": "stdout",
     "output_type": "stream",
     "text": [
      "[array([[[3, 0]],\n",
      "\n",
      "       [[4, 0]],\n",
      "\n",
      "       [[4, 0]],\n",
      "\n",
      "       ...,\n",
      "\n",
      "       [[8, 0]],\n",
      "\n",
      "       [[6, 0]],\n",
      "\n",
      "       [[6, 0]]])]\n"
     ]
    },
    {
     "data": {
      "image/png": "[encoded data removed]",
      "text/plain": [
       "<Figure size 432x288 with 1 Axes>"
      ]
     },
     "metadata": {
      "needs_background": "light"
     },
     "output_type": "display_data"
    },
    {
     "data": {
      "text/plain": [
       "(array([ 34., 197., 333., 144., 194.,  79.,   9.,   8.,   1.,   1.]),\n",
       " array([ 0. ,  1.7,  3.4,  5.1,  6.8,  8.5, 10.2, 11.9, 13.6, 15.3, 17. ]),\n",
       " <BarContainer object of 10 artists>)"
      ]
     },
     "execution_count": 17,
     "metadata": {},
     "output_type": "execute_result"
    },
    {
     "data": {
      "image/png": "[encoded data removed]",
      "text/plain": [
       "<Figure size 432x288 with 1 Axes>"
      ]
     },
     "metadata": {
      "needs_background": "light"
     },
     "output_type": "display_data"
    }
   ],
   "source": [
    "config['reps'] = 1000\n",
    "config['readout_length'] = 1020\n",
    "prog = PhotonCountingProgram(soccfg, config)\n",
    "iq_list = prog.acquire(soc, progress=False)\n",
    "\n",
    "print(iq_list)\n",
    "data = np.array([a[0][0] for a in iq_list[0]])\n",
    "\n",
    "counts, bins = np.histogram(data)\n",
    "plt.stairs(counts, bins)\n",
    "plt.show()\n",
    "plt.hist(bins[:-1], bins, weights=counts)\n"
   ]
  }
 ],
 "metadata": {
  "kernelspec": {
   "display_name": "Python 3 (ipykernel)",
   "language": "python",
   "name": "python3"
  },
  "language_info": {
   "codemirror_mode": {
    "name": "ipython",
    "version": 3
   },
   "file_extension": ".py",
   "mimetype": "text/x-python",
   "name": "python",
   "nbconvert_exporter": "python",
   "pygments_lexer": "ipython3",
   "version": "3.10.4"
  }
 },
 "nbformat": 4,
 "nbformat_minor": 2
}
