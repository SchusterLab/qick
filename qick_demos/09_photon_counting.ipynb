{
 "cells": [
  {
   "cell_type": "code",
   "execution_count": 1,
   "metadata": {},
   "outputs": [],
   "source": [
    "%load_ext autoreload\n",
    "%autoreload 2"
   ]
  },
  {
   "cell_type": "code",
   "execution_count": 2,
   "metadata": {},
   "outputs": [],
   "source": [
    "# Import the QICK drivers and auxiliary libraries\n",
    "from qick import *\n",
    "import matplotlib.pyplot as plt\n",
    "import numpy as np\n",
    "from scipy.signal import find_peaks\n",
    "# %pylab inline"
   ]
  },
  {
   "cell_type": "code",
   "execution_count": 3,
   "metadata": {
    "slideshow": {
     "slide_type": "slide"
    }
   },
   "outputs": [],
   "source": [
    "qick_path = \"/home/xilinx/jupyter_notebooks/alternative_firmware/photon_counting_2/qick_4x2.bit\"\n",
    "\n",
    "bitfile=qick_path"
   ]
  },
  {
   "cell_type": "code",
   "execution_count": 4,
   "metadata": {},
   "outputs": [
    {
     "data": {
      "application/javascript": [
       "\n",
       "try {\n",
       "require(['notebook/js/codecell'], function(codecell) {\n",
       "  codecell.CodeCell.options_default.highlight_modes[\n",
       "      'magic_text/x-csrc'] = {'reg':[/^%%microblaze/]};\n",
       "  Jupyter.notebook.events.one('kernel_ready.Kernel', function(){\n",
       "      Jupyter.notebook.get_cells().map(function(cell){\n",
       "          if (cell.cell_type == 'code'){ cell.auto_highlight(); } }) ;\n",
       "  });\n",
       "});\n",
       "} catch (e) {};\n"
      ]
     },
     "metadata": {},
     "output_type": "display_data"
    },
    {
     "data": {
      "application/javascript": [
       "\n",
       "try {\n",
       "require(['notebook/js/codecell'], function(codecell) {\n",
       "  codecell.CodeCell.options_default.highlight_modes[\n",
       "      'magic_text/x-csrc'] = {'reg':[/^%%pybind11/]};\n",
       "  Jupyter.notebook.events.one('kernel_ready.Kernel', function(){\n",
       "      Jupyter.notebook.get_cells().map(function(cell){\n",
       "          if (cell.cell_type == 'code'){ cell.auto_highlight(); } }) ;\n",
       "  });\n",
       "});\n",
       "} catch (e) {};\n"
      ]
     },
     "metadata": {},
     "output_type": "display_data"
    }
   ],
   "source": [
    "soc = QickSoc(bitfile=qick_path)\n",
    "soccfg = soc"
   ]
  },
  {
   "cell_type": "code",
   "execution_count": 5,
   "metadata": {},
   "outputs": [],
   "source": [
    "class LoopbackProgram(AveragerProgram):\n",
    "    def initialize(self):\n",
    "        cfg=self.cfg   \n",
    "        \n",
    "        self.declare_readout(ch=self.cfg['ro_chs'][0], length=self.cfg['readout_length'], freq=0, sel='input')\n",
    "        \n",
    "        self.synci(200)  # give processor some time to configure pulses\n",
    "    \n",
    "    def body(self):\n",
    "        self.trigger(adcs=self.ro_chs, \n",
    "                     adc_trig_offset=self.cfg[\"adc_trig_offset\"])\n",
    "        self.synci(int(self.cfg['readout_length'] * 1.25))\n",
    "        self.wait_all(self.cfg['relax_delay'])"
   ]
  },
  {
   "cell_type": "code",
   "execution_count": 6,
   "metadata": {},
   "outputs": [
    {
     "data": {
      "text/plain": [
       "<matplotlib.collections.PathCollection at 0xffff5ea2f730>"
      ]
     },
     "execution_count": 6,
     "metadata": {},
     "output_type": "execute_result"
    },
    {
     "data": {
      "image/png": "[encoded data removed]",
      "text/plain": [
       "<Figure size 432x288 with 1 Axes>"
      ]
     },
     "metadata": {
      "needs_background": "light"
     },
     "output_type": "display_data"
    }
   ],
   "source": [
    "config={\"ro_chs\":[1], # --Fixed\n",
    "        \"reps\": 1,\n",
    "        \"relax_delay\":3000, # --us        \n",
    "        \"readout_length\":1020, # [Clock ticks]\n",
    "        \"adc_trig_offset\": 100, # [Clock ticks]\n",
    "        \"soft_avgs\":1\n",
    "       }\n",
    "\n",
    "prog =LoopbackProgram(soccfg, config)\n",
    "iq_list = prog.acquire_decimated(soc, progress=False)\n",
    "\n",
    "data = iq_list[0][0]\n",
    "\n",
    "# Plot results.\n",
    "plt.figure(1)\n",
    "plt.plot(data)\n",
    "plt.ylabel(\"a.u.\")\n",
    "plt.xlabel(\"Clock ticks\")\n",
    "plt.title(\"Averages = \" + str(config[\"soft_avgs\"]))\n",
    "\n",
    "x0, _  = find_peaks(data,height=500)\n",
    "plt.scatter(x0, data[x0], c='red')"
   ]
  },
  {
   "cell_type": "code",
   "execution_count": 7,
   "metadata": {},
   "outputs": [
    {
     "data": {
      "image/png": "[encoded data removed]",
      "text/plain": [
       "<Figure size 432x288 with 1 Axes>"
      ]
     },
     "metadata": {
      "needs_background": "light"
     },
     "output_type": "display_data"
    },
    {
     "data": {
      "text/plain": [
       "(array([ 23.,  50., 230., 174., 131., 256.,  56.,  64.,  11.,   5.]),\n",
       " array([ 0. ,  1.4,  2.8,  4.2,  5.6,  7. ,  8.4,  9.8, 11.2, 12.6, 14. ]),\n",
       " <BarContainer object of 10 artists>)"
      ]
     },
     "execution_count": 7,
     "metadata": {},
     "output_type": "execute_result"
    },
    {
     "data": {
      "image/png": "[encoded data removed]",
      "text/plain": [
       "<Figure size 432x288 with 1 Axes>"
      ]
     },
     "metadata": {
      "needs_background": "light"
     },
     "output_type": "display_data"
    }
   ],
   "source": [
    "config={\"ro_chs\":[1], # --Fixed\n",
    "        \"reps\": 1,\n",
    "        \"relax_delay\":3000, # --us        \n",
    "        \"readout_length\":1020, # [Clock ticks]\n",
    "        \"adc_trig_offset\": 100, # [Clock ticks]\n",
    "        \"soft_avgs\":1\n",
    "       }\n",
    "\n",
    "n = []\n",
    "\n",
    "for i in range(1000):\n",
    "\n",
    "    prog =LoopbackProgram(soccfg, config)\n",
    "    iq_list = prog.acquire_decimated(soc, progress=False)\n",
    "\n",
    "    data = iq_list[0][0]\n",
    "    x0, _  = find_peaks(data,height=500)\n",
    "    n.append(len(x0))\n",
    "counts, bins = np.histogram(n)\n",
    "plt.stairs(counts, bins)\n",
    "plt.show()\n",
    "plt.hist(bins[:-1], bins, weights=counts)"
   ]
  },
  {
   "cell_type": "code",
   "execution_count": 148,
   "metadata": {},
   "outputs": [
    {
     "data": {
      "text/plain": [
       "2147483648"
      ]
     },
     "execution_count": 148,
     "metadata": {},
     "output_type": "execute_result"
    }
   ],
   "source": [
    "np.uint32(2**32//2), np.uint32(2**32//2)"
   ]
  },
  {
   "cell_type": "code",
   "execution_count": 25,
   "metadata": {
    "scrolled": false
   },
   "outputs": [
    {
     "name": "stdout",
     "output_type": "stream",
     "text": [
      "[array([[[0, 0]],\n",
      "\n",
      "       [[0, 0]],\n",
      "\n",
      "       [[0, 0]],\n",
      "\n",
      "       ...,\n",
      "\n",
      "       [[0, 0]],\n",
      "\n",
      "       [[0, 0]],\n",
      "\n",
      "       [[0, 0]]])]\n"
     ]
    },
    {
     "data": {
      "image/png": "[encoded data removed]",
      "text/plain": [
       "<Figure size 432x288 with 1 Axes>"
      ]
     },
     "metadata": {
      "needs_background": "light"
     },
     "output_type": "display_data"
    },
    {
     "data": {
      "text/plain": [
       "(array([   0.,    0.,    0.,    0.,    0., 1000.,    0.,    0.,    0.,\n",
       "           0.]),\n",
       " array([-0.5, -0.4, -0.3, -0.2, -0.1,  0. ,  0.1,  0.2,  0.3,  0.4,  0.5]),\n",
       " <BarContainer object of 10 artists>)"
      ]
     },
     "execution_count": 25,
     "metadata": {},
     "output_type": "execute_result"
    },
    {
     "data": {
      "image/png": "[encoded data removed]",
      "text/plain": [
       "<Figure size 432x288 with 1 Axes>"
      ]
     },
     "metadata": {
      "needs_background": "light"
     },
     "output_type": "display_data"
    }
   ],
   "source": [
    "config['reps'] = 1000\n",
    "config['readout_length'] = 1020\n",
    "prog =LoopbackProgram(soccfg, config)\n",
    "iq_list = prog.acquire_counted(soc, high_threshold=10000, low_threshold=0, progress=False)\n",
    "print(iq_list)\n",
    "data = np.array([a[0][0] for a in iq_list[0]])\n",
    "\n",
    "counts, bins = np.histogram(data)\n",
    "plt.stairs(counts, bins)\n",
    "plt.show()\n",
    "plt.hist(bins[:-1], bins, weights=counts)\n"
   ]
  },
  {
   "cell_type": "code",
   "execution_count": 8,
   "metadata": {
    "scrolled": false
   },
   "outputs": [
    {
     "name": "stdout",
     "output_type": "stream",
     "text": [
      "[[[[-1.36980392e+01  0.00000000e+00]]\n",
      "\n",
      "  [[ 1.22941176e+00  0.00000000e+00]]\n",
      "\n",
      "  [[-3.75372549e+01  0.00000000e+00]]\n",
      "\n",
      "  [[-1.00156863e+01  0.00000000e+00]]\n",
      "\n",
      "  [[-1.74803922e+00  0.00000000e+00]]\n",
      "\n",
      "  [[ 1.19882353e+01  0.00000000e+00]]\n",
      "\n",
      "  [[-3.93578431e+01  0.00000000e+00]]\n",
      "\n",
      "  [[ 7.98039216e-01  0.00000000e+00]]\n",
      "\n",
      "  [[ 1.85980392e+00  0.00000000e+00]]\n",
      "\n",
      "  [[ 7.00000000e-01  0.00000000e+00]]\n",
      "\n",
      "  [[ 2.97549020e+00  0.00000000e+00]]\n",
      "\n",
      "  [[ 1.63676471e+01  0.00000000e+00]]\n",
      "\n",
      "  [[ 4.80392157e-02  0.00000000e+00]]\n",
      "\n",
      "  [[-5.42352941e+00  0.00000000e+00]]\n",
      "\n",
      "  [[-1.88235294e+00  0.00000000e+00]]\n",
      "\n",
      "  [[-1.09901961e+00  0.00000000e+00]]\n",
      "\n",
      "  [[-1.61470588e+01  0.00000000e+00]]\n",
      "\n",
      "  [[-5.76794118e+01  0.00000000e+00]]\n",
      "\n",
      "  [[-6.82647059e+00  0.00000000e+00]]\n",
      "\n",
      "  [[-3.11960784e+00  0.00000000e+00]]\n",
      "\n",
      "  [[-1.98333333e+00  0.00000000e+00]]\n",
      "\n",
      "  [[-3.06568627e+00  0.00000000e+00]]\n",
      "\n",
      "  [[-2.45196078e+00  0.00000000e+00]]\n",
      "\n",
      "  [[ 8.12745098e-01  0.00000000e+00]]\n",
      "\n",
      "  [[-1.81372549e+00  0.00000000e+00]]\n",
      "\n",
      "  [[-5.17352941e+00  0.00000000e+00]]\n",
      "\n",
      "  [[ 1.68196078e+01  0.00000000e+00]]\n",
      "\n",
      "  [[ 1.04215686e+00  0.00000000e+00]]\n",
      "\n",
      "  [[-2.46382353e+01  0.00000000e+00]]\n",
      "\n",
      "  [[-3.17352941e+00  0.00000000e+00]]\n",
      "\n",
      "  [[-1.57490196e+01  0.00000000e+00]]\n",
      "\n",
      "  [[-3.38235294e-01  0.00000000e+00]]\n",
      "\n",
      "  [[ 1.89607843e+00  0.00000000e+00]]\n",
      "\n",
      "  [[-1.15882353e+00  0.00000000e+00]]\n",
      "\n",
      "  [[ 7.59803922e-01  0.00000000e+00]]\n",
      "\n",
      "  [[-1.09411765e+00  0.00000000e+00]]\n",
      "\n",
      "  [[ 2.68725490e+00  0.00000000e+00]]\n",
      "\n",
      "  [[-8.67549020e+00  0.00000000e+00]]\n",
      "\n",
      "  [[ 1.58431373e+00  0.00000000e+00]]\n",
      "\n",
      "  [[ 6.50000000e-01  0.00000000e+00]]\n",
      "\n",
      "  [[ 1.84764706e+01  0.00000000e+00]]\n",
      "\n",
      "  [[-1.50000000e-01  0.00000000e+00]]\n",
      "\n",
      "  [[-6.76470588e-02  0.00000000e+00]]\n",
      "\n",
      "  [[-1.55392157e+00  0.00000000e+00]]\n",
      "\n",
      "  [[-4.00784314e+00  0.00000000e+00]]\n",
      "\n",
      "  [[-4.28147059e+01  0.00000000e+00]]\n",
      "\n",
      "  [[-1.67549020e+01  0.00000000e+00]]\n",
      "\n",
      "  [[ 1.14019608e+00  0.00000000e+00]]\n",
      "\n",
      "  [[ 1.09019608e+00  0.00000000e+00]]\n",
      "\n",
      "  [[ 8.95980392e+00  0.00000000e+00]]\n",
      "\n",
      "  [[-2.96176471e+01  0.00000000e+00]]\n",
      "\n",
      "  [[-4.60294118e+00  0.00000000e+00]]\n",
      "\n",
      "  [[-4.37156863e+00  0.00000000e+00]]\n",
      "\n",
      "  [[ 1.85294118e+00  0.00000000e+00]]\n",
      "\n",
      "  [[-4.44509804e+00  0.00000000e+00]]\n",
      "\n",
      "  [[-6.54607843e+00  0.00000000e+00]]\n",
      "\n",
      "  [[ 1.64343137e+01  0.00000000e+00]]\n",
      "\n",
      "  [[-1.06294118e+01  0.00000000e+00]]\n",
      "\n",
      "  [[-1.22843137e+00  0.00000000e+00]]\n",
      "\n",
      "  [[-1.30196078e+00  0.00000000e+00]]\n",
      "\n",
      "  [[-4.90098039e+00  0.00000000e+00]]\n",
      "\n",
      "  [[ 1.31588235e+01  0.00000000e+00]]\n",
      "\n",
      "  [[-2.50784314e+00  0.00000000e+00]]\n",
      "\n",
      "  [[-1.71568627e+00  0.00000000e+00]]\n",
      "\n",
      "  [[-1.17519608e+01  0.00000000e+00]]\n",
      "\n",
      "  [[-4.31372549e-01  0.00000000e+00]]\n",
      "\n",
      "  [[ 1.26568627e+00  0.00000000e+00]]\n",
      "\n",
      "  [[-7.20000000e+00  0.00000000e+00]]\n",
      "\n",
      "  [[-5.98725490e+00  0.00000000e+00]]\n",
      "\n",
      "  [[-9.04901961e+00  0.00000000e+00]]\n",
      "\n",
      "  [[ 2.12774510e+01  0.00000000e+00]]\n",
      "\n",
      "  [[-2.39480392e+01  0.00000000e+00]]\n",
      "\n",
      "  [[ 8.23529412e-01  0.00000000e+00]]\n",
      "\n",
      "  [[ 9.04607843e+00  0.00000000e+00]]\n",
      "\n",
      "  [[ 1.78803922e+01  0.00000000e+00]]\n",
      "\n",
      "  [[-3.57745098e+00  0.00000000e+00]]\n",
      "\n",
      "  [[-3.52882353e+01  0.00000000e+00]]\n",
      "\n",
      "  [[-1.02774510e+01  0.00000000e+00]]\n",
      "\n",
      "  [[-2.39215686e+01  0.00000000e+00]]\n",
      "\n",
      "  [[ 1.29166667e+01  0.00000000e+00]]\n",
      "\n",
      "  [[-1.99117647e+00  0.00000000e+00]]\n",
      "\n",
      "  [[ 3.53892157e+01  0.00000000e+00]]\n",
      "\n",
      "  [[-2.55931373e+01  0.00000000e+00]]\n",
      "\n",
      "  [[ 3.06411765e+01  0.00000000e+00]]\n",
      "\n",
      "  [[ 2.59500000e+01  0.00000000e+00]]\n",
      "\n",
      "  [[-1.69705882e+00  0.00000000e+00]]\n",
      "\n",
      "  [[-1.27352941e+00  0.00000000e+00]]\n",
      "\n",
      "  [[ 1.51078431e+00  0.00000000e+00]]\n",
      "\n",
      "  [[-1.29803922e+00  0.00000000e+00]]\n",
      "\n",
      "  [[ 5.71568627e-01  0.00000000e+00]]\n",
      "\n",
      "  [[-2.09313725e+00  0.00000000e+00]]\n",
      "\n",
      "  [[-7.49019608e-01  0.00000000e+00]]\n",
      "\n",
      "  [[-8.67647059e-01  0.00000000e+00]]\n",
      "\n",
      "  [[-6.24313725e+00  0.00000000e+00]]\n",
      "\n",
      "  [[ 9.52647059e+00  0.00000000e+00]]\n",
      "\n",
      "  [[-2.80803922e+01  0.00000000e+00]]\n",
      "\n",
      "  [[-1.79803922e+00  0.00000000e+00]]\n",
      "\n",
      "  [[-3.51078431e+00  0.00000000e+00]]\n",
      "\n",
      "  [[-2.42441176e+01  0.00000000e+00]]\n",
      "\n",
      "  [[ 1.28901961e+01  0.00000000e+00]]]]\n"
     ]
    }
   ],
   "source": [
    "prog =LoopbackProgram(soccfg, config)\n",
    "iq_list = prog.acquire(soc, progress=False)\n",
    "print((np.array(iq_list)/config['readout_length']).astype(float))"
   ]
  },
  {
   "cell_type": "code",
   "execution_count": 9,
   "metadata": {},
   "outputs": [
    {
     "name": "stdout",
     "output_type": "stream",
     "text": [
      "\n",
      "// Program\n",
      "\n",
      "        synci 200;\n",
      "        regwi 0, $15, 0;\n",
      "        regwi 0, $14, 99;\n",
      "LOOP_J: regwi 0, $16, 32768;                    //out = 0b1000000000000000\n",
      "        seti 7, 0, $16, 100;                    //ch =0 out = $16 @t = 0\n",
      "        seti 7, 0, $0, 110;                     //ch =0 out = 0 @t = 0\n",
      "        synci 2040;\n",
      "        waiti 0, 4120;\n",
      "        mathi 0, $15, $15 + 1;\n",
      "        memwi 0, $15, 1;\n",
      "        loopnz 0, $14, @LOOP_J;\n",
      "        end ;\n"
     ]
    }
   ],
   "source": [
    "print(prog.asm())"
   ]
  },
  {
   "cell_type": "code",
   "execution_count": null,
   "metadata": {},
   "outputs": [],
   "source": []
  }
 ],
 "metadata": {
  "kernelspec": {
   "display_name": "Python 3 (ipykernel)",
   "language": "python",
   "name": "python3"
  },
  "language_info": {
   "codemirror_mode": {
    "name": "ipython",
    "version": 3
   },
   "file_extension": ".py",
   "mimetype": "text/x-python",
   "name": "python",
   "nbconvert_exporter": "python",
   "pygments_lexer": "ipython3",
   "version": "3.10.4"
  }
 },
 "nbformat": 4,
 "nbformat_minor": 2
}
