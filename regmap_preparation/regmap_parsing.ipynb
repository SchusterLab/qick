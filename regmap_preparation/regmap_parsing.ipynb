{
 "cells": [
  {
   "cell_type": "markdown",
   "id": "abd9ea59-7940-4e17-8077-d20b6d92f6c6",
   "metadata": {},
   "source": [
    "# Regmap Parsing"
   ]
  },
  {
   "cell_type": "code",
   "execution_count": 1,
   "id": "d9f601b1-ec47-4deb-97df-10cc56006496",
   "metadata": {},
   "outputs": [],
   "source": [
    "import ipq_pynq_utils\n",
    "import numpy as np"
   ]
  },
  {
   "cell_type": "code",
   "execution_count": 2,
   "id": "b85d3c74-daf6-4d77-b678-e4bfd1f990a0",
   "metadata": {},
   "outputs": [],
   "source": [
    "clk104 = ipq_pynq_utils.CLK104(\"clockfile.txt\")"
   ]
  },
  {
   "cell_type": "code",
   "execution_count": 3,
   "id": "7649fde8-26ce-40ce-b6cd-a1c552220cac",
   "metadata": {},
   "outputs": [
    {
     "name": "stdout",
     "output_type": "stream",
     "text": [
      "ADC_REFCLK: 245.76\n",
      "DAC_REFCLK: 245.76\n",
      "RF_PLL_ADC_REF: 245.76\n",
      "RF_PLL_DAC_REF: 245.76\n",
      "SYSREF_FREQ: 7.68\n"
     ]
    }
   ],
   "source": [
    "clk104.PLL2_FREQ = 2457.6 # Main Reference Clock\n",
    "# clk104.PLL2_FREQ = 3000 # Main Reference Clock\n",
    "\n",
    "print(f\"ADC_REFCLK: {clk104.ADC_REFCLK.freq:.2f}\")\n",
    "print(f\"DAC_REFCLK: {clk104.DAC_REFCLK.freq:.2f}\")\n",
    "print(f\"RF_PLL_ADC_REF: {clk104.RF_PLL_ADC_REF.freq:.2f}\")\n",
    "print(f\"RF_PLL_DAC_REF: {clk104.RF_PLL_DAC_REF.freq:.2f}\")\n",
    "print(f\"SYSREF_FREQ: {clk104.SYSREF_FREQ:.2f}\")"
   ]
  },
  {
   "cell_type": "code",
   "execution_count": 4,
   "id": "fc95aba3-a162-4832-96cd-63b10bf7c6a1",
   "metadata": {},
   "outputs": [
    {
     "name": "stdout",
     "output_type": "stream",
     "text": [
      "0 True True\n",
      "1 False True\n",
      "2 True True\n",
      "3 False False\n",
      "4 True True\n",
      "5 False True\n",
      "6 False False\n"
     ]
    }
   ],
   "source": [
    "for i,branch in enumerate(clk104.lmk.clock_branches):\n",
    "    print(i, branch.dclk_active, branch.sdclk_active)"
   ]
  },
  {
   "cell_type": "code",
   "execution_count": 5,
   "id": "03e5695a-4c55-4894-bcf4-f758634fd5d5",
   "metadata": {
    "tags": []
   },
   "outputs": [
    {
     "data": {
      "text/plain": [
       "[16,\n",
       " 512,\n",
       " 774,\n",
       " 1232,\n",
       " 1371,\n",
       " 1536,\n",
       " 3153,\n",
       " 3332,\n",
       " 65546,\n",
       " 65877,\n",
       " 66133,\n",
       " 66304,\n",
       " 66594,\n",
       " 66816,\n",
       " 67312,\n",
       " 67377,\n",
       " 67594,\n",
       " 67925,\n",
       " 68181,\n",
       " 68352,\n",
       " 68642,\n",
       " 68864,\n",
       " 69360,\n",
       " 69424,\n",
       " 69642,\n",
       " 69973,\n",
       " 70229,\n",
       " 70400,\n",
       " 70690,\n",
       " 70912,\n",
       " 71408,\n",
       " 71475,\n",
       " 71690,\n",
       " 72021,\n",
       " 72277,\n",
       " 72448,\n",
       " 72738,\n",
       " 72960,\n",
       " 73457,\n",
       " 73488,\n",
       " 73736,\n",
       " 74069,\n",
       " 74325,\n",
       " 74496,\n",
       " 74786,\n",
       " 75008,\n",
       " 75504,\n",
       " 75569,\n",
       " 75786,\n",
       " 76117,\n",
       " 76373,\n",
       " 76544,\n",
       " 76834,\n",
       " 77056,\n",
       " 77552,\n",
       " 77616,\n",
       " 77834,\n",
       " 78165,\n",
       " 78421,\n",
       " 78592,\n",
       " 78882,\n",
       " 79104,\n",
       " 79601,\n",
       " 79616,\n",
       " 79872,\n",
       " 80131,\n",
       " 80385,\n",
       " 80704,\n",
       " 80896,\n",
       " 81153,\n",
       " 81411,\n",
       " 81666,\n",
       " 81923,\n",
       " 82176,\n",
       " 82432,\n",
       " 82704,\n",
       " 83199,\n",
       " 83327,\n",
       " 83515,\n",
       " 83738,\n",
       " 83974,\n",
       " 84294,\n",
       " 84486,\n",
       " 84758,\n",
       " 84992,\n",
       " 85248,\n",
       " 85696,\n",
       " 85887,\n",
       " 86019,\n",
       " 86274,\n",
       " 86528,\n",
       " 86784,\n",
       " 87048,\n",
       " 87296,\n",
       " 87560,\n",
       " 87808,\n",
       " 88189,\n",
       " 88320,\n",
       " 88704,\n",
       " 89041,\n",
       " 89120,\n",
       " 89344,\n",
       " 89600,\n",
       " 89918,\n",
       " 90112,\n",
       " 90393,\n",
       " 90692,\n",
       " 90880,\n",
       " 91136,\n",
       " 91552,\n",
       " 94634,\n",
       " 94722,\n",
       " 97301,\n",
       " 97587,\n",
       " 91648,\n",
       " 91904,\n",
       " 92352,\n",
       " 92505,\n",
       " 92704,\n",
       " 92928,\n",
       " 93184,\n",
       " 93440,\n",
       " 93723,\n",
       " 94976,\n",
       " 98816,\n",
       " 99072,\n",
       " 99328,\n",
       " 99584,\n",
       " 100352,\n",
       " 100608,\n",
       " 100864,\n",
       " 101120,\n",
       " 2096384,\n",
       " 2096640,\n",
       " 2096979]"
      ]
     },
     "execution_count": 5,
     "metadata": {},
     "output_type": "execute_result"
    }
   ],
   "source": [
    "clk104.get_register_dump()"
   ]
  },
  {
   "cell_type": "code",
   "execution_count": 6,
   "id": "d182c3e5-6e99-4471-a7b8-67212caae5c6",
   "metadata": {},
   "outputs": [
    {
     "name": "stdout",
     "output_type": "stream",
     "text": [
      "SEL_MODE: CLK_IN_1_MANUAL\n",
      "Input divider: 8\n",
      "PLL1 Phase Detector Frequency: 1.25\n",
      "PLL1N Divider: 128\n",
      "Expected VCXO Frequency: 160.0\n",
      "PLL2 Input Frequency: 6.4\n",
      "PLL2_P: 2\n",
      "PLL2_N: 192\n",
      "PLL2 Output Frequency: 2457.6\n",
      "SYSREF DIVIDER: 320\n",
      "SYSREF FREQ: 7.68\n",
      "Output Branch  0 DIV: 10\n",
      "Output Branch  0 CLK_PD: ENABLED\n",
      "Output Branch  0 SDCLK_PD: ENABLED\n",
      "Output Branch  0 DCLK_FMT: LVDS\n",
      "Output Branch  0 SDCLK_FMT: HSDS_8_MA\n",
      "Output Branch  0 DCLK_POL: NORMAL\n",
      "Output Branch  0 SDCLK_POL: NORMAL\n",
      "Output Branch  0 SDCLK_MUX: SYSREF_OUTPUT\n",
      "Output Branch  0 DCLK_MUX: DIVIDER_ONLY\n",
      "Output Branch  0 DCLK_FREQ: 245.76\n",
      "Output Branch  0 SDCLK_FREQ: 7.68\n",
      "Output Branch  0 DCLK_ACTIVE: True\n",
      "Output Branch  0 SDCLK_ACTIVE: True\n",
      "Output Branch  2 DIV: 10\n",
      "Output Branch  2 CLK_PD: ENABLED\n",
      "Output Branch  2 SDCLK_PD: ENABLED\n",
      "Output Branch  2 DCLK_FMT: POWERDOWN\n",
      "Output Branch  2 SDCLK_FMT: HSDS_8_MA\n",
      "Output Branch  2 DCLK_POL: NORMAL\n",
      "Output Branch  2 SDCLK_POL: NORMAL\n",
      "Output Branch  2 SDCLK_MUX: SYSREF_OUTPUT\n",
      "Output Branch  2 DCLK_MUX: DIVIDER_ONLY\n",
      "Output Branch  2 DCLK_FREQ: 245.76\n",
      "Output Branch  2 SDCLK_FREQ: 7.68\n",
      "Output Branch  2 DCLK_ACTIVE: False\n",
      "Output Branch  2 SDCLK_ACTIVE: True\n",
      "Output Branch  4 DIV: 10\n",
      "Output Branch  4 CLK_PD: ENABLED\n",
      "Output Branch  4 SDCLK_PD: ENABLED\n",
      "Output Branch  4 DCLK_FMT: HSDS_8_MA\n",
      "Output Branch  4 SDCLK_FMT: HSDS_8_MA\n",
      "Output Branch  4 DCLK_POL: NORMAL\n",
      "Output Branch  4 SDCLK_POL: NORMAL\n",
      "Output Branch  4 SDCLK_MUX: SYSREF_OUTPUT\n",
      "Output Branch  4 DCLK_MUX: DIVIDER_ONLY\n",
      "Output Branch  4 DCLK_FREQ: 245.76\n",
      "Output Branch  4 SDCLK_FREQ: 7.68\n",
      "Output Branch  4 DCLK_ACTIVE: True\n",
      "Output Branch  4 SDCLK_ACTIVE: True\n",
      "Output Branch  6 DIV: 10\n",
      "Output Branch  6 CLK_PD: ENABLED\n",
      "Output Branch  6 SDCLK_PD: POWERDOWN\n",
      "Output Branch  6 DCLK_FMT: POWERDOWN\n",
      "Output Branch  6 SDCLK_FMT: LVDS\n",
      "Output Branch  6 DCLK_POL: NORMAL\n",
      "Output Branch  6 SDCLK_POL: NORMAL\n",
      "Output Branch  6 SDCLK_MUX: SYSREF_OUTPUT\n",
      "Output Branch  6 DCLK_MUX: DIVIDER_ONLY\n",
      "Output Branch  6 DCLK_FREQ: 245.76\n",
      "Output Branch  6 SDCLK_FREQ: 7.68\n",
      "Output Branch  6 DCLK_ACTIVE: False\n",
      "Output Branch  6 SDCLK_ACTIVE: False\n",
      "Output Branch  8 DIV: 8\n",
      "Output Branch  8 CLK_PD: ENABLED\n",
      "Output Branch  8 SDCLK_PD: ENABLED\n",
      "Output Branch  8 DCLK_FMT: LVDS\n",
      "Output Branch  8 SDCLK_FMT: HSDS_8_MA\n",
      "Output Branch  8 DCLK_POL: NORMAL\n",
      "Output Branch  8 SDCLK_POL: NORMAL\n",
      "Output Branch  8 SDCLK_MUX: SYSREF_OUTPUT\n",
      "Output Branch  8 DCLK_MUX: DIVIDER_ONLY\n",
      "Output Branch  8 DCLK_FREQ: 307.2\n",
      "Output Branch  8 SDCLK_FREQ: 7.68\n",
      "Output Branch  8 DCLK_ACTIVE: True\n",
      "Output Branch  8 SDCLK_ACTIVE: True\n",
      "Output Branch 10 DIV: 10\n",
      "Output Branch 10 CLK_PD: ENABLED\n",
      "Output Branch 10 SDCLK_PD: ENABLED\n",
      "Output Branch 10 DCLK_FMT: POWERDOWN\n",
      "Output Branch 10 SDCLK_FMT: HSDS_8_MA\n",
      "Output Branch 10 DCLK_POL: NORMAL\n",
      "Output Branch 10 SDCLK_POL: NORMAL\n",
      "Output Branch 10 SDCLK_MUX: SYSREF_OUTPUT\n",
      "Output Branch 10 DCLK_MUX: DIVIDER_ONLY\n",
      "Output Branch 10 DCLK_FREQ: 245.76\n",
      "Output Branch 10 SDCLK_FREQ: 7.68\n",
      "Output Branch 10 DCLK_ACTIVE: False\n",
      "Output Branch 10 SDCLK_ACTIVE: True\n",
      "Output Branch 12 DIV: 10\n",
      "Output Branch 12 CLK_PD: ENABLED\n",
      "Output Branch 12 SDCLK_PD: POWERDOWN\n",
      "Output Branch 12 DCLK_FMT: POWERDOWN\n",
      "Output Branch 12 SDCLK_FMT: POWERDOWN\n",
      "Output Branch 12 DCLK_POL: NORMAL\n",
      "Output Branch 12 SDCLK_POL: NORMAL\n",
      "Output Branch 12 SDCLK_MUX: SYSREF_OUTPUT\n",
      "Output Branch 12 DCLK_MUX: DIVIDER_ONLY\n",
      "Output Branch 12 DCLK_FREQ: 245.76\n",
      "Output Branch 12 SDCLK_FREQ: 7.68\n",
      "Output Branch 12 DCLK_ACTIVE: False\n",
      "Output Branch 12 SDCLK_ACTIVE: False\n"
     ]
    }
   ],
   "source": [
    "clk104.lmk.update(printDebug=True)"
   ]
  },
  {
   "cell_type": "code",
   "execution_count": 7,
   "id": "1da54b2a-ec41-4982-92ed-b621b3507135",
   "metadata": {},
   "outputs": [],
   "source": [
    "clk104.lmk.write_register_dump(\"clockfile_out.txt\")"
   ]
  },
  {
   "cell_type": "code",
   "execution_count": 8,
   "id": "5109a798-9163-4998-8e6e-d77774baf21f",
   "metadata": {},
   "outputs": [
    {
     "name": "stdout",
     "output_type": "stream",
     "text": [
      "136c136\n",
      "< R8191\t0x1FFF53\n",
      "\\ No newline at end of file\n",
      "---\n",
      "> R8191\t0x1FFF53\n"
     ]
    }
   ],
   "source": [
    "!diff clockfile.txt clockfile_out.txt"
   ]
  },
  {
   "cell_type": "raw",
   "id": "50e4bca4-65d9-48b8-8558-9fc01ba0420e",
   "metadata": {
    "tags": []
   },
   "source": [
    "register_by_addr = {}\n",
    "\n",
    "for register in regmap:\n",
    "    addr = register[\"addr\"]\n",
    "    register_by_addr[addr] = Register(register)\n",
    "\n",
    "    for field in register[\"fields\"]:\n",
    "        if field[\"fieldtype\"] == \"constant\":\n",
    "            continue\n",
    "\n",
    "        # print(f\" regmap[0x{addr:<3x}][{field['end']}:{field['start']}] {field['name']:20} {field['description']}\")"
   ]
  },
  {
   "cell_type": "code",
   "execution_count": 9,
   "id": "6a98bd80-3bd4-4b9d-8558-6d00765725e7",
   "metadata": {},
   "outputs": [
    {
     "data": {
      "text/plain": [
       "13"
      ]
     },
     "execution_count": 9,
     "metadata": {},
     "output_type": "execute_result"
    }
   ],
   "source": [
    "len(bin(0x1fff))-2"
   ]
  },
  {
   "cell_type": "code",
   "execution_count": 10,
   "id": "4ac9d140-5e53-4b84-97b7-aadbdcb66582",
   "metadata": {},
   "outputs": [],
   "source": [
    "def parse_register_file(filename, aw=13, dw=8):\n",
    "    with open(filename, \"r\") as f:\n",
    "        lines = f.read().strip().split(\"\\n\")\n",
    "\n",
    "    ret = []\n",
    "\n",
    "    for line in lines:\n",
    "        a,b = line.split(\"\\t\")\n",
    "        data = int(b, 16)\n",
    "        mask = (1 << aw)-1\n",
    "        data_mask = (1 << dw) - 1\n",
    "\n",
    "        ret.append((mask & (data >> dw), data & data_mask))\n",
    "\n",
    "    return ret"
   ]
  },
  {
   "cell_type": "code",
   "execution_count": 11,
   "id": "0be567a0-189a-45d8-a4aa-c4eca358f15a",
   "metadata": {},
   "outputs": [],
   "source": [
    "prog_file = parse_register_file(\"clockfile.txt\")"
   ]
  },
  {
   "cell_type": "code",
   "execution_count": 12,
   "id": "68c9e3ec-5293-47ae-ada2-8050138a23e9",
   "metadata": {},
   "outputs": [
    {
     "name": "stdout",
     "output_type": "stream",
     "text": [
      "[0, 0, 2, 3, 4, 5, 6, 12, 13, 256, 257, 258, 259, 260, 261, 262, 263, 264, 265, 266, 267, 268, 269, 270, 271, 272, 273, 274, 275, 276, 277, 278, 279, 280, 281, 282, 283, 284, 285, 286, 287, 288, 289, 290, 291, 292, 293, 294, 295, 296, 297, 298, 299, 300, 301, 302, 303, 304, 305, 306, 307, 308, 309, 310, 311, 312, 313, 314, 315, 316, 317, 318, 319, 320, 321, 322, 323, 324, 325, 326, 327, 328, 329, 330, 331, 332, 333, 334, 335, 336, 337, 338, 339, 340, 341, 342, 343, 344, 345, 346, 347, 348, 349, 350, 351, 352, 353, 354, 355, 356, 357, 369, 370, 380, 381, 358, 359, 360, 361, 362, 363, 364, 365, 366, 371, 386, 387, 388, 389, 392, 393, 394, 395, 8189, 8190, 8191]\n"
     ]
    }
   ],
   "source": [
    "print([a[0] for a in prog_file])"
   ]
  },
  {
   "cell_type": "code",
   "execution_count": 13,
   "id": "9e7a01dd-f149-4f3e-bd0e-a469b64a61c9",
   "metadata": {},
   "outputs": [],
   "source": [
    "if 0:\n",
    "    for addr,data in prog_file:\n",
    "        # print(f\"Explaining register 0x{addr:x} = 0x{data:x}\")\n",
    "        if not addr in register_by_addr:\n",
    "            print(f\"Unhandled register: {hex(addr)}, skipping ...\")\n",
    "            print()\n",
    "            continue\n",
    "\n",
    "        register = register_by_addr[addr]\n",
    "        print(hex(addr))\n",
    "        register.parse(data)\n",
    "\n",
    "        for field in register.fields:\n",
    "            val = field.get()\n",
    "            if field.name == \"CONST\":\n",
    "                continue\n",
    "\n",
    "            print(f\"    {field.name}\")\n",
    "            print(f\"        Description: {field.description}\")\n",
    "            print(f\"        Value:       {val}\")\n",
    "            if field.valid_type == \"enum\":\n",
    "                print(f\"        ValDesc:     {field.value_description}\")\n",
    "            print()"
   ]
  },
  {
   "cell_type": "code",
   "execution_count": 14,
   "id": "2e1d9b70-ef8e-419c-a6b3-014c00003320",
   "metadata": {},
   "outputs": [],
   "source": [
    "lmx_clock_files = [\n",
    "    \"LMX2594_REF-245M76__OUT-0204M80_10172019_I_D.txt\",\n",
    "    \"LMX2594_REF-245M76__OUT-0245M76_10172019_I_D.txt\",\n",
    "    \"LMX2594_REF-245M76__OUT-0491M52_10172019_I_D.txt\",\n",
    "    \"LMX2594_REF-245M76__OUT-1024M00_11052019_D.txt\",\n",
    "    \"LMX2594_REF-245M76__OUT-1966M08_10172019_I_D.txt\",\n",
    "    \"LMX2594_REF-245M76__OUT-2211M84_10172019_I_D.txt\",\n",
    "    \"LMX2594_REF-245M76__OUT-2457M60_10172019_I_D.txt\",\n",
    "    \"LMX2594_REF-245M76__OUT-3072M00_10172019_I_D.txt\",\n",
    "    \"LMX2594_REF-245M76__OUT-3932M16_10172019_I.txt\",\n",
    "    \"LMX2594_REF-245M76__OUT-4096M00_11052019_D.txt\",\n",
    "    \"LMX2594_REF-245M76__OUT-4423M68_10172019_I_D.txt\",\n",
    "    \"LMX2594_REF-245M76__OUT-4915M20_10172019_I_D.txt\",\n",
    "    \"LMX2594_REF-245M76__OUT-5898M24_10172019_I_D.txt\",\n",
    "    \"LMX2594_REF-245M76__OUT-6144M00_10172019_I_D.txt\",\n",
    "    \"LMX2594_REF-245M76__OUT-6881M28_10172019_I_D.txt\",\n",
    "    \"LMX2594_REF-245M76__OUT-7372M80_10172019_I_D.txt\",\n",
    "    \"LMX2594_REF-245M76__OUT-7864M32_10172019_I.txt\",\n",
    "    \"LMX2594_REF-245M76__OUT-8192M00_11052019.txt\",\n",
    "    \"LMX2594_REF-245M76__OUT-8847M36_10172019_I.txt\",\n",
    "    \"LMX2594_REF-245M76__OUT-9830M40_10172019_I.txt\"\n",
    "]"
   ]
  },
  {
   "cell_type": "code",
   "execution_count": 15,
   "id": "238a53d3-7e94-4db9-937d-d1e6d966d3bf",
   "metadata": {},
   "outputs": [],
   "source": [
    "lmx = ipq_pynq_utils.LMX2594(245.76)"
   ]
  },
  {
   "cell_type": "code",
   "execution_count": 16,
   "id": "85d23c14-6fe6-4628-a56a-d6a505750428",
   "metadata": {},
   "outputs": [
    {
     "name": "stdout",
     "output_type": "stream",
     "text": [
      "f_outa =  204.80, f_vco =  9830.40\n",
      "f_outa =  245.76, f_vco =  7864.32\n",
      "f_outa =  491.52, f_vco =  7864.32\n",
      "f_outa = 1024.00, f_vco =  8192.00\n",
      "f_outa = 1966.08, f_vco =  7864.32\n",
      "f_outa = 2211.84, f_vco =  8847.36\n",
      "f_outa = 2457.60, f_vco =  9830.40\n",
      "f_outa = 3072.00, f_vco = 12288.00\n",
      "f_outa = 3932.16, f_vco =  7864.32\n",
      "f_outa = 4096.00, f_vco =  8192.00\n",
      "f_outa = 4423.68, f_vco =  8847.36\n",
      "f_outa = 4915.20, f_vco =  9830.40\n",
      "f_outa = 5898.24, f_vco = 11796.48\n",
      "f_outa = 6144.00, f_vco = 12288.00\n",
      "f_outa = 6881.28, f_vco = 13762.56\n",
      "f_outa = 7372.80, f_vco = 14745.60\n",
      "f_outa = 7864.32, f_vco =  7864.32\n",
      "f_outa = 8192.00, f_vco =  8192.00\n",
      "f_outa = 8847.36, f_vco =  8847.36\n",
      "f_outa = 9830.40, f_vco =  9830.40\n"
     ]
    }
   ],
   "source": [
    "for f in lmx_clock_files:\n",
    "    lmx.init_from_file(f\"../ipq_pynq_utils/data/clockFiles/{f}\")\n",
    "    print(f\"f_outa = {round(lmx.f_outa, ndigits=2):7.2f}, f_vco = {round(lmx.f_vco, ndigits=2):8.2f}\")# , f_outb = {round(lmx.f_outb, ndigits=3)}\")"
   ]
  },
  {
   "cell_type": "code",
   "execution_count": 17,
   "id": "2e553fb0-096d-4935-bb26-f2965a227361",
   "metadata": {},
   "outputs": [],
   "source": [
    "num = lmx.get_long_register(lmx.PLL_NUM_31_16, lmx.PLL_NUM_15_0)\n",
    "den = lmx.get_long_register(lmx.PLL_DEN_31_16, lmx.PLL_DEN_15_0)\n",
    "pll_n = lmx.get_long_register(lmx.PLL_N_18_16, lmx.PLL_N_15_0)"
   ]
  },
  {
   "cell_type": "code",
   "execution_count": 18,
   "id": "6f79f997-2293-425b-8d89-9c4c0d4d1399",
   "metadata": {},
   "outputs": [
    {
     "data": {
      "text/plain": [
       "9830.4"
      ]
     },
     "execution_count": 18,
     "metadata": {},
     "output_type": "execute_result"
    }
   ],
   "source": [
    "lmx.f_outa"
   ]
  },
  {
   "cell_type": "code",
   "execution_count": 19,
   "id": "6479e0e0-f79f-4b18-974a-0361f6d8efb9",
   "metadata": {},
   "outputs": [],
   "source": [
    "f_pd = 24.576\n",
    "f_vco = f_pd * (pll_n + num/den)"
   ]
  },
  {
   "cell_type": "code",
   "execution_count": 20,
   "id": "34bad9a8-b1d5-4d9d-8ed3-c458d4c21b5b",
   "metadata": {},
   "outputs": [
    {
     "data": {
      "text/plain": [
       "VCO"
      ]
     },
     "execution_count": 20,
     "metadata": {},
     "output_type": "execute_result"
    }
   ],
   "source": [
    "lmx.OUTA_MUX.get()"
   ]
  },
  {
   "cell_type": "code",
   "execution_count": 21,
   "id": "a598da90-b042-4d9d-b8c6-3c19bfca1c0a",
   "metadata": {},
   "outputs": [
    {
     "data": {
      "text/plain": [
       "1"
      ]
     },
     "execution_count": 21,
     "metadata": {},
     "output_type": "execute_result"
    }
   ],
   "source": [
    "lmx.SYSREF_DIV.get()"
   ]
  },
  {
   "cell_type": "code",
   "execution_count": 22,
   "id": "6819be10-0289-4321-a813-096d3114db79",
   "metadata": {},
   "outputs": [
    {
     "data": {
      "text/plain": [
       "411.625"
      ]
     },
     "execution_count": 22,
     "metadata": {},
     "output_type": "execute_result"
    }
   ],
   "source": [
    "9879 / (6*4)"
   ]
  },
  {
   "cell_type": "code",
   "execution_count": null,
   "id": "b199593e-9ef9-4d64-992c-f655e34c65ae",
   "metadata": {},
   "outputs": [],
   "source": []
  }
 ],
 "metadata": {
  "kernelspec": {
   "display_name": "Python 3 (ipykernel)",
   "language": "python",
   "name": "python3"
  },
  "language_info": {
   "codemirror_mode": {
    "name": "ipython",
    "version": 3
   },
   "file_extension": ".py",
   "mimetype": "text/x-python",
   "name": "python",
   "nbconvert_exporter": "python",
   "pygments_lexer": "ipython3",
   "version": "3.10.4"
  }
 },
 "nbformat": 4,
 "nbformat_minor": 5
}
