{
 "cells": [
  {
   "cell_type": "markdown",
   "id": "abd9ea59-7940-4e17-8077-d20b6d92f6c6",
   "metadata": {},
   "source": [
    "# Regmap Parsing"
   ]
  },
  {
   "cell_type": "code",
   "execution_count": 2,
   "id": "d9f601b1-ec47-4deb-97df-10cc56006496",
   "metadata": {},
   "outputs": [],
   "source": [
    "import clock_models\n",
    "import numpy as np"
   ]
  },
  {
   "cell_type": "code",
   "execution_count": 3,
   "id": "b85d3c74-daf6-4d77-b678-e4bfd1f990a0",
   "metadata": {},
   "outputs": [],
   "source": [
    "clk104 = clock_models.CLK104(\"clockfile.txt\")"
   ]
  },
  {
   "cell_type": "code",
   "execution_count": 4,
   "id": "7649fde8-26ce-40ce-b6cd-a1c552220cac",
   "metadata": {},
   "outputs": [],
   "source": [
    "clk104.PLL2_CLK = 2457.6 # Main Reference Clock\n",
    "# clk104.PLL2_CLK = 3000 # Main Reference Clock"
   ]
  },
  {
   "cell_type": "code",
   "execution_count": 5,
   "id": "95ca4cff-dcf4-48c4-83fa-f450b787abe7",
   "metadata": {},
   "outputs": [],
   "source": [
    "clk104.SYSREF_CLK = 7.69"
   ]
  },
  {
   "cell_type": "code",
   "execution_count": 6,
   "id": "03e5695a-4c55-4894-bcf4-f758634fd5d5",
   "metadata": {},
   "outputs": [
    {
     "data": {
      "text/plain": [
       "[(0, 16),\n",
       " (2, 512),\n",
       " (3, 774),\n",
       " (4, 1232),\n",
       " (5, 1371),\n",
       " (6, 1536),\n",
       " (12, 3153),\n",
       " (13, 3332),\n",
       " (256, 65546),\n",
       " (257, 65877),\n",
       " (258, 66133),\n",
       " (259, 66304),\n",
       " (260, 66594),\n",
       " (261, 66816),\n",
       " (262, 67312),\n",
       " (263, 67377),\n",
       " (264, 67594),\n",
       " (265, 67925),\n",
       " (266, 68181),\n",
       " (267, 68352),\n",
       " (268, 68642),\n",
       " (269, 68864),\n",
       " (270, 69360),\n",
       " (271, 69424),\n",
       " (272, 69642),\n",
       " (273, 69973),\n",
       " (274, 70229),\n",
       " (275, 70400),\n",
       " (276, 70690),\n",
       " (277, 70912),\n",
       " (278, 71408),\n",
       " (279, 71475),\n",
       " (280, 71690),\n",
       " (281, 72021),\n",
       " (282, 72277),\n",
       " (283, 72448),\n",
       " (284, 72738),\n",
       " (285, 72960),\n",
       " (286, 73457),\n",
       " (287, 73488),\n",
       " (288, 73736),\n",
       " (289, 74069),\n",
       " (290, 74325),\n",
       " (291, 74496),\n",
       " (292, 74786),\n",
       " (293, 75008),\n",
       " (294, 75504),\n",
       " (295, 75569),\n",
       " (296, 75786),\n",
       " (297, 76117),\n",
       " (298, 76373),\n",
       " (299, 76544),\n",
       " (300, 76834),\n",
       " (301, 77056),\n",
       " (302, 77552),\n",
       " (303, 77616),\n",
       " (304, 77834),\n",
       " (305, 78165),\n",
       " (306, 78421),\n",
       " (307, 78592),\n",
       " (308, 78882),\n",
       " (309, 79104),\n",
       " (310, 79601),\n",
       " (311, 79616),\n",
       " (312, 79872),\n",
       " (313, 80131),\n",
       " (314, 80385),\n",
       " (315, 80704),\n",
       " (316, 80896),\n",
       " (317, 81153),\n",
       " (318, 81411),\n",
       " (319, 81666),\n",
       " (320, 81923),\n",
       " (321, 82176),\n",
       " (322, 82432),\n",
       " (323, 82704),\n",
       " (324, 83199),\n",
       " (325, 83327),\n",
       " (326, 83515),\n",
       " (327, 83738),\n",
       " (328, 83974),\n",
       " (329, 84294),\n",
       " (330, 84486),\n",
       " (331, 84758),\n",
       " (332, 84992),\n",
       " (333, 85248),\n",
       " (334, 85696),\n",
       " (335, 85887),\n",
       " (336, 86019),\n",
       " (337, 86274),\n",
       " (338, 86528),\n",
       " (339, 86784),\n",
       " (340, 87048),\n",
       " (341, 87296),\n",
       " (342, 87560),\n",
       " (343, 87808),\n",
       " (344, 88189),\n",
       " (345, 88320),\n",
       " (346, 88704),\n",
       " (347, 89041),\n",
       " (348, 89120),\n",
       " (349, 89344),\n",
       " (350, 89600),\n",
       " (351, 89918),\n",
       " (352, 90112),\n",
       " (353, 90393),\n",
       " (354, 90692),\n",
       " (355, 90880),\n",
       " (356, 91136),\n",
       " (357, 91552),\n",
       " (369, 94634),\n",
       " (370, 94722),\n",
       " (380, 97301),\n",
       " (381, 97587),\n",
       " (358, 91648),\n",
       " (359, 91904),\n",
       " (360, 92352),\n",
       " (361, 92505),\n",
       " (362, 92704),\n",
       " (363, 92928),\n",
       " (364, 93184),\n",
       " (365, 93440),\n",
       " (366, 93723),\n",
       " (371, 94976),\n",
       " (386, 98816),\n",
       " (387, 99072),\n",
       " (388, 99328),\n",
       " (389, 99584),\n",
       " (392, 100352),\n",
       " (393, 100608),\n",
       " (394, 100864),\n",
       " (395, 101120),\n",
       " (8189, 2096384),\n",
       " (8190, 2096640),\n",
       " (8191, 2096979)]"
      ]
     },
     "execution_count": 6,
     "metadata": {},
     "output_type": "execute_result"
    }
   ],
   "source": [
    "clk104.get_register_dump()"
   ]
  },
  {
   "cell_type": "code",
   "execution_count": 48,
   "id": "d182c3e5-6e99-4471-a7b8-67212caae5c6",
   "metadata": {},
   "outputs": [
    {
     "name": "stdout",
     "output_type": "stream",
     "text": [
      "SEL_MODE: CLK_IN_1_MANUAL\n",
      "Input divider: 8\n",
      "PLL1 Phase Detector Frequency: 1.25\n",
      "PLL1N Divider: 128\n",
      "Expected VCXO Frequency: 160.0\n",
      "PLL2 Input Frequency: 6.4\n",
      "PLL2_P: 2\n",
      "PLL2_N: 192\n",
      "PLL2 Output Frequency: 2457.6\n",
      "SYSREF DIVIDER: 320\n",
      "SYSREF FREQ: 7.68\n",
      "Output Branch  0 DIV: 10\n",
      "Output Branch  0 CLK_PD: ENABLED\n",
      "Output Branch  0 SDCLK_PD: ENABLED\n",
      "Output Branch  0 DCLK_FMT: LVDS\n",
      "Output Branch  0 SDCLK_FMT: HSDS_8_MA\n",
      "Output Branch  0 DCLK_POL: NORMAL\n",
      "Output Branch  0 SDCLK_POL: NORMAL\n",
      "Output Branch  0 SDCLK_MUX: SYSREF_OUTPUT\n",
      "Output Branch  0 DCLK_MUX: DIVIDER_ONLY\n",
      "Output Branch  0 DCLK_FREQ: 245.76\n",
      "Output Branch  0 SDCLK_FREQ: 7.68\n",
      "Output Branch  0 DCLK_ACTIVE: True\n",
      "Output Branch  0 SDCLK_ACTIVE: True\n",
      "Output Branch  2 DIV: 10\n",
      "Output Branch  2 CLK_PD: ENABLED\n",
      "Output Branch  2 SDCLK_PD: ENABLED\n",
      "Output Branch  2 DCLK_FMT: POWERDOWN\n",
      "Output Branch  2 SDCLK_FMT: HSDS_8_MA\n",
      "Output Branch  2 DCLK_POL: NORMAL\n",
      "Output Branch  2 SDCLK_POL: NORMAL\n",
      "Output Branch  2 SDCLK_MUX: SYSREF_OUTPUT\n",
      "Output Branch  2 DCLK_MUX: DIVIDER_ONLY\n",
      "Output Branch  2 DCLK_FREQ: 245.76\n",
      "Output Branch  2 SDCLK_FREQ: 7.68\n",
      "Output Branch  2 DCLK_ACTIVE: False\n",
      "Output Branch  2 SDCLK_ACTIVE: True\n",
      "Output Branch  4 DIV: 10\n",
      "Output Branch  4 CLK_PD: ENABLED\n",
      "Output Branch  4 SDCLK_PD: ENABLED\n",
      "Output Branch  4 DCLK_FMT: HSDS_8_MA\n",
      "Output Branch  4 SDCLK_FMT: HSDS_8_MA\n",
      "Output Branch  4 DCLK_POL: NORMAL\n",
      "Output Branch  4 SDCLK_POL: NORMAL\n",
      "Output Branch  4 SDCLK_MUX: SYSREF_OUTPUT\n",
      "Output Branch  4 DCLK_MUX: DIVIDER_ONLY\n",
      "Output Branch  4 DCLK_FREQ: 245.76\n",
      "Output Branch  4 SDCLK_FREQ: 7.68\n",
      "Output Branch  4 DCLK_ACTIVE: True\n",
      "Output Branch  4 SDCLK_ACTIVE: True\n",
      "Output Branch  6 DIV: 10\n",
      "Output Branch  6 CLK_PD: ENABLED\n",
      "Output Branch  6 SDCLK_PD: POWERDOWN\n",
      "Output Branch  6 DCLK_FMT: POWERDOWN\n",
      "Output Branch  6 SDCLK_FMT: LVDS\n",
      "Output Branch  6 DCLK_POL: NORMAL\n",
      "Output Branch  6 SDCLK_POL: NORMAL\n",
      "Output Branch  6 SDCLK_MUX: SYSREF_OUTPUT\n",
      "Output Branch  6 DCLK_MUX: DIVIDER_ONLY\n",
      "Output Branch  6 DCLK_FREQ: 245.76\n",
      "Output Branch  6 SDCLK_FREQ: 7.68\n",
      "Output Branch  6 DCLK_ACTIVE: False\n",
      "Output Branch  6 SDCLK_ACTIVE: False\n",
      "Output Branch  8 DIV: 8\n",
      "Output Branch  8 CLK_PD: ENABLED\n",
      "Output Branch  8 SDCLK_PD: ENABLED\n",
      "Output Branch  8 DCLK_FMT: LVDS\n",
      "Output Branch  8 SDCLK_FMT: HSDS_8_MA\n",
      "Output Branch  8 DCLK_POL: NORMAL\n",
      "Output Branch  8 SDCLK_POL: NORMAL\n",
      "Output Branch  8 SDCLK_MUX: SYSREF_OUTPUT\n",
      "Output Branch  8 DCLK_MUX: DIVIDER_ONLY\n",
      "Output Branch  8 DCLK_FREQ: 307.2\n",
      "Output Branch  8 SDCLK_FREQ: 7.68\n",
      "Output Branch  8 DCLK_ACTIVE: True\n",
      "Output Branch  8 SDCLK_ACTIVE: True\n",
      "Output Branch 10 DIV: 10\n",
      "Output Branch 10 CLK_PD: ENABLED\n",
      "Output Branch 10 SDCLK_PD: ENABLED\n",
      "Output Branch 10 DCLK_FMT: POWERDOWN\n",
      "Output Branch 10 SDCLK_FMT: HSDS_8_MA\n",
      "Output Branch 10 DCLK_POL: NORMAL\n",
      "Output Branch 10 SDCLK_POL: NORMAL\n",
      "Output Branch 10 SDCLK_MUX: SYSREF_OUTPUT\n",
      "Output Branch 10 DCLK_MUX: DIVIDER_ONLY\n",
      "Output Branch 10 DCLK_FREQ: 245.76\n",
      "Output Branch 10 SDCLK_FREQ: 7.68\n",
      "Output Branch 10 DCLK_ACTIVE: False\n",
      "Output Branch 10 SDCLK_ACTIVE: True\n",
      "Output Branch 12 DIV: 10\n",
      "Output Branch 12 CLK_PD: ENABLED\n",
      "Output Branch 12 SDCLK_PD: POWERDOWN\n",
      "Output Branch 12 DCLK_FMT: POWERDOWN\n",
      "Output Branch 12 SDCLK_FMT: POWERDOWN\n",
      "Output Branch 12 DCLK_POL: NORMAL\n",
      "Output Branch 12 SDCLK_POL: NORMAL\n",
      "Output Branch 12 SDCLK_MUX: SYSREF_OUTPUT\n",
      "Output Branch 12 DCLK_MUX: DIVIDER_ONLY\n",
      "Output Branch 12 DCLK_FREQ: 245.76\n",
      "Output Branch 12 SDCLK_FREQ: 7.68\n",
      "Output Branch 12 DCLK_ACTIVE: False\n",
      "Output Branch 12 SDCLK_ACTIVE: False\n"
     ]
    }
   ],
   "source": [
    "clk104.lmk.update(printDebug=True)"
   ]
  },
  {
   "cell_type": "code",
   "execution_count": 6,
   "id": "1da54b2a-ec41-4982-92ed-b621b3507135",
   "metadata": {},
   "outputs": [],
   "source": [
    "clk104.lmk.write_register_dump(\"clockfile_out.txt\")"
   ]
  },
  {
   "cell_type": "code",
   "execution_count": 7,
   "id": "5109a798-9163-4998-8e6e-d77774baf21f",
   "metadata": {},
   "outputs": [
    {
     "name": "stdout",
     "output_type": "stream",
     "text": [
      "136c136\n",
      "< R8191\t0x1FFF53\n",
      "\\ No newline at end of file\n",
      "---\n",
      "> R8191\t0x1FFF53\n"
     ]
    }
   ],
   "source": [
    "!diff clockfile.txt clockfile_out.txt"
   ]
  },
  {
   "cell_type": "raw",
   "id": "50e4bca4-65d9-48b8-8558-9fc01ba0420e",
   "metadata": {
    "tags": []
   },
   "source": [
    "register_by_addr = {}\n",
    "\n",
    "for register in regmap:\n",
    "    addr = register[\"addr\"]\n",
    "    register_by_addr[addr] = Register(register)\n",
    "\n",
    "    for field in register[\"fields\"]:\n",
    "        if field[\"fieldtype\"] == \"constant\":\n",
    "            continue\n",
    "\n",
    "        # print(f\" regmap[0x{addr:<3x}][{field['end']}:{field['start']}] {field['name']:20} {field['description']}\")"
   ]
  },
  {
   "cell_type": "code",
   "execution_count": 8,
   "id": "4ac9d140-5e53-4b84-97b7-aadbdcb66582",
   "metadata": {},
   "outputs": [],
   "source": [
    "def parse_register_file(filename):\n",
    "    with open(filename, \"r\") as f:\n",
    "        lines = f.read().strip().split(\"\\n\")\n",
    "\n",
    "    ret = []\n",
    "\n",
    "    for line in lines:\n",
    "        a,b = line.split(\"\\t\")\n",
    "        data = int(b, 16)\n",
    "\n",
    "        ret.append((0x1fff & (data >> 8), data & 0xFF))\n",
    "\n",
    "    return ret"
   ]
  },
  {
   "cell_type": "code",
   "execution_count": 9,
   "id": "0be567a0-189a-45d8-a4aa-c4eca358f15a",
   "metadata": {},
   "outputs": [],
   "source": [
    "prog_file = parse_register_file(\"clockfile.txt\")"
   ]
  },
  {
   "cell_type": "code",
   "execution_count": 10,
   "id": "68c9e3ec-5293-47ae-ada2-8050138a23e9",
   "metadata": {},
   "outputs": [
    {
     "name": "stdout",
     "output_type": "stream",
     "text": [
      "[0, 0, 2, 3, 4, 5, 6, 12, 13, 256, 257, 258, 259, 260, 261, 262, 263, 264, 265, 266, 267, 268, 269, 270, 271, 272, 273, 274, 275, 276, 277, 278, 279, 280, 281, 282, 283, 284, 285, 286, 287, 288, 289, 290, 291, 292, 293, 294, 295, 296, 297, 298, 299, 300, 301, 302, 303, 304, 305, 306, 307, 308, 309, 310, 311, 312, 313, 314, 315, 316, 317, 318, 319, 320, 321, 322, 323, 324, 325, 326, 327, 328, 329, 330, 331, 332, 333, 334, 335, 336, 337, 338, 339, 340, 341, 342, 343, 344, 345, 346, 347, 348, 349, 350, 351, 352, 353, 354, 355, 356, 357, 369, 370, 380, 381, 358, 359, 360, 361, 362, 363, 364, 365, 366, 371, 386, 387, 388, 389, 392, 393, 394, 395, 8189, 8190, 8191]\n"
     ]
    }
   ],
   "source": [
    "print([a[0] for a in prog_file])"
   ]
  },
  {
   "cell_type": "code",
   "execution_count": 11,
   "id": "9e7a01dd-f149-4f3e-bd0e-a469b64a61c9",
   "metadata": {},
   "outputs": [],
   "source": [
    "if 0:\n",
    "    for addr,data in prog_file:\n",
    "        # print(f\"Explaining register 0x{addr:x} = 0x{data:x}\")\n",
    "        if not addr in register_by_addr:\n",
    "            print(f\"Unhandled register: {hex(addr)}, skipping ...\")\n",
    "            print()\n",
    "            continue\n",
    "\n",
    "        register = register_by_addr[addr]\n",
    "        print(hex(addr))\n",
    "        register.parse(data)\n",
    "\n",
    "        for field in register.fields:\n",
    "            val = field.get()\n",
    "            if field.name == \"CONST\":\n",
    "                continue\n",
    "\n",
    "            print(f\"    {field.name}\")\n",
    "            print(f\"        Description: {field.description}\")\n",
    "            print(f\"        Value:       {val}\")\n",
    "            if field.valid_type == \"enum\":\n",
    "                print(f\"        ValDesc:     {field.value_description}\")\n",
    "            print()"
   ]
  },
  {
   "cell_type": "code",
   "execution_count": null,
   "id": "2e1d9b70-ef8e-419c-a6b3-014c00003320",
   "metadata": {},
   "outputs": [],
   "source": []
  }
 ],
 "metadata": {
  "kernelspec": {
   "display_name": "Python 3 (ipykernel)",
   "language": "python",
   "name": "python3"
  },
  "language_info": {
   "codemirror_mode": {
    "name": "ipython",
    "version": 3
   },
   "file_extension": ".py",
   "mimetype": "text/x-python",
   "name": "python",
   "nbconvert_exporter": "python",
   "pygments_lexer": "ipython3",
   "version": "3.10.4"
  }
 },
 "nbformat": 4,
 "nbformat_minor": 5
}
